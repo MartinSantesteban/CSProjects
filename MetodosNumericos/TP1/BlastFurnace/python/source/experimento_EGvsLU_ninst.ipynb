{
 "cells": [
  {
   "cell_type": "markdown",
   "metadata": {},
   "source": [
    "Importamos las funciones requeridas."
   ]
  },
  {
   "cell_type": "code",
   "execution_count": 2,
   "metadata": {},
   "outputs": [],
   "source": [
    "import sys\n",
    "import os\n",
    "from math import sin, cos, pi\n",
    "import numpy as np\n",
    "import pandas as pd\n",
    "import matplotlib.pyplot as plt\n",
    "import seaborn as sns\n",
    "\n",
    "from generator import generate\n",
    "from runner import correr_instancia\n",
    "from isotherm import isotherm_abs, isotherm_lin, isotherm_lin2\n",
    "from risk import run_risks\n",
    "from graph  import read_input, temp_graph, temp_graph_bilin, iso_graph, risk_graph"
   ]
  },
  {
   "cell_type": "markdown",
   "metadata": {},
   "source": [
    "Experimento 4.3.1 $EG$ vs $LU$ con número de instancias creciente."
   ]
  },
  {
   "cell_type": "markdown",
   "metadata": {},
   "source": [
    "Generamos las instancias"
   ]
  },
  {
   "cell_type": "code",
   "execution_count": null,
   "metadata": {},
   "outputs": [],
   "source": [
    "max_ninst = 100\n",
    "\n",
    "distribuciones = ['uniforme', 'picos', 'normal']\n",
    "Te = {\n",
    "    'uniforme': lambda t : 0,\n",
    "    'picos'   : lambda t : ((((sin(t)+1)/2)**( (10) *5+1))*500),\n",
    "    'normal'  : lambda t : np.random.normal(250, 125)\n",
    "}\n",
    "\n",
    "for i in range(len(distribuciones)):\n",
    "    instancia = f'{distribuciones[i]}/instancias'\n",
    "    for ninst in range(1, max_ninst+1):\n",
    "        generate(instancia, f\"{distribuciones[i]}_{ninst}\", 1, 2, 30, 30, 500, ninst, [lambda t : 1500]*ninst, [Te[distribuciones[i]]]*ninst)"
   ]
  },
  {
   "cell_type": "markdown",
   "metadata": {},
   "source": [
    "Resolvemos las instancias"
   ]
  },
  {
   "cell_type": "code",
   "execution_count": null,
   "metadata": {},
   "outputs": [],
   "source": [
    "distribucion = 'normal'\n",
    "instancia = f'{distribucion}/instancias'\n",
    "path_tiempos = f\"../../output/{instancia}/\"\n",
    "for ninst in [1, 5, 10, 15, 20, 25, 30, 35, 40, 45, 50]:\n",
    "    runs = 60-ninst\n",
    "    if (os.path.isfile(path_tiempos+f\"normal_{ninst}_EG.time\")):\n",
    "        open(path_tiempos+f\"normal_{ninst}_EG.time\", \"w\").close()\n",
    "    if (os.path.isfile(path_tiempos+f\"normal_{ninst}_LU.time\")):\n",
    "        open(path_tiempos+f\"normal_{ninst}_LU.time\", \"w\").close()\n",
    "    for j in range(runs):\n",
    "        correr_instancia('temperatura', instancia, f'normal_{ninst}', 'EG')\n",
    "        correr_instancia('temperatura', instancia, f'normal_{ninst}', 'LU')"
   ]
  },
  {
   "cell_type": "markdown",
   "metadata": {},
   "source": [
    "Graficamos"
   ]
  },
  {
   "cell_type": "code",
   "execution_count": 4,
   "metadata": {},
   "outputs": [
    {
     "data": {
      "image/png": "[encoded data removed]",
      "text/plain": [
       "<Figure size 432x288 with 1 Axes>"
      ]
     },
     "metadata": {},
     "output_type": "display_data"
    }
   ],
   "source": [
    "distribucion = 'normal'\n",
    "instancia = f'{distribucion}/instancias'\n",
    "path_tiempos = f\"../../output/{instancia}/\"\n",
    "datapoints = []\n",
    "eg = pd.DataFrame([])  \n",
    "for ninst in [1, 5, 10, 15, 20, 25, 30, 35, 40, 45, 50]:\n",
    "    n_eg = pd.read_csv(path_tiempos+f'{distribucion}_{ninst}_EG.time')\n",
    "    n_eg = n_eg.groupby(n_eg.index // ninst).sum()\n",
    "    n_eg['ninst'] = [ninst]*len(n_eg)\n",
    "    eg = pd.concat([eg, n_eg], axis=0).drop_duplicates().reset_index(drop=True)\n",
    "eg = eg.rename(columns={'EG': 'time'})\n",
    "eg['método'] = ['EG']*len(eg)\n",
    "\n",
    "lu = pd.DataFrame([])  \n",
    "for ninst in [1, 5, 10, 15, 20, 25, 30, 35, 40, 45, 50]:\n",
    "    n_lu = pd.read_csv(path_tiempos+f'{distribucion}_{ninst}_LU.time')\n",
    "    n_lu = n_lu.groupby(n_lu.index // ninst).sum()\n",
    "    n_lu['ninst'] = [ninst]*len(n_lu)\n",
    "    lu = pd.concat([lu, n_lu], axis=0).drop_duplicates().reset_index(drop=True)\n",
    "lu = lu.rename(columns={'LU': 'time'})\n",
    "lu['método'] = ['LU']*len(lu)\n",
    "\n",
    "times = pd.concat([eg, lu], axis=0).drop_duplicates().reset_index(drop=True)\n",
    "\n",
    "sns.set_theme()\n",
    "ax = sns.lineplot(\n",
    "    data=times,\n",
    "    x='ninst', y='time', hue='método', style='método',\n",
    "    markers=True, dashes=False\n",
    ")\n",
    "ax.set(xlabel='número de subinstancias', ylabel='tiempo(ns)')\n",
    "plt.yscale('log')\n",
    "plt.savefig('EG_vs_LU_ninst.pdf')"
   ]
  },
  {
   "cell_type": "code",
   "execution_count": null,
   "metadata": {},
   "outputs": [],
   "source": [
    "\n",
    "temp_graph('normal/instancias', 'normal_3')\n",
    "temp_graph_bilin('normal/instancias', 'normal_3')"
   ]
  }
 ],
 "metadata": {
  "interpreter": {
   "hash": "e7370f93d1d0cde622a1f8e1c04877d8463912d04d973331ad4851f04de6915a"
  },
  "kernelspec": {
   "display_name": "Python 3.10.2 64-bit",
   "language": "python",
   "name": "python3"
  },
  "language_info": {
   "codemirror_mode": {
    "name": "ipython",
    "version": 3
   },
   "file_extension": ".py",
   "mimetype": "text/x-python",
   "name": "python",
   "nbconvert_exporter": "python",
   "pygments_lexer": "ipython3",
   "version": "3.10.4"
  },
  "orig_nbformat": 4
 },
 "nbformat": 4,
 "nbformat_minor": 2
}
