{
 "cells": [
  {
   "cell_type": "markdown",
   "metadata": {},
   "source": [
    "Importamos las funciones requeridas."
   ]
  },
  {
   "cell_type": "code",
   "execution_count": 2,
   "metadata": {},
   "outputs": [],
   "source": [
    "import sys\n",
    "import os\n",
    "from math import sin, cos, pi\n",
    "import numpy as np\n",
    "import pandas as pd\n",
    "import matplotlib.pyplot as plt\n",
    "import seaborn as sns\n",
    "\n",
    "from generator import generate\n",
    "from runner import correr_instancia\n",
    "from isotherm import isotherm_abs, isotherm_lin, isotherm_lin2\n",
    "from risk import run_risks\n",
    "from graph  import read_input, temp_graph, temp_graph_bilin, iso_graph, risk_graph"
   ]
  },
  {
   "cell_type": "markdown",
   "metadata": {},
   "source": [
    "Experimento 4.3.2 $EG$ vs $LU$ con $n\\cdot m$ creciente."
   ]
  },
  {
   "cell_type": "markdown",
   "metadata": {},
   "source": [
    "Generamos las instancias"
   ]
  },
  {
   "cell_type": "code",
   "execution_count": null,
   "metadata": {},
   "outputs": [],
   "source": [
    "instancia = f'normal/nm'\n",
    "for (n, m) in [(n, n) for n in range(5, 51)]:\n",
    "    generate(instancia, f\"normal_{n}\", 1, 2, n, m, 500, 1, [lambda t : 1500], [lambda t : np.random.normal(250, 125)])"
   ]
  },
  {
   "cell_type": "markdown",
   "metadata": {},
   "source": [
    "Resolvemos las instancias"
   ]
  },
  {
   "cell_type": "code",
   "execution_count": null,
   "metadata": {},
   "outputs": [],
   "source": [
    "distribucion = 'normal'\n",
    "instancia = f'{distribucion}/nm'\n",
    "path_tiempos = f\"../../output/{instancia}/\"\n",
    "for n in range(5, 51):\n",
    "    runs = 50\n",
    "    if (os.path.isfile(path_tiempos+f\"normal_{n}_EG.time\")):\n",
    "        open(path_tiempos+f\"normal_{n}_EG.time\", \"w\").close()\n",
    "    if (os.path.isfile(path_tiempos+f\"normal_{n}_LU.time\")):\n",
    "        open(path_tiempos+f\"normal_{n}_LU.time\", \"w\").close()\n",
    "    for j in range(runs):\n",
    "        correr_instancia('temperatura', instancia, f'normal_{n}', 'EG')\n",
    "        correr_instancia('temperatura', instancia, f'normal_{n}', 'LU')\n",
    "    print('finish', n)"
   ]
  },
  {
   "cell_type": "markdown",
   "metadata": {},
   "source": [
    "Graficamos"
   ]
  },
  {
   "cell_type": "code",
   "execution_count": 3,
   "metadata": {},
   "outputs": [
    {
     "name": "stdout",
     "output_type": "stream",
     "text": [
      "             time     n método\n",
      "0           23739    25     LU\n",
      "1           38005    25     LU\n",
      "2           23490    25     LU\n",
      "3           36507    25     LU\n",
      "4           23075    25     LU\n",
      "...           ...   ...    ...\n",
      "2295  18552706718  2500     LU\n",
      "2296  18847954144  2500     LU\n",
      "2297  19848075905  2500     LU\n",
      "2298  17450886415  2500     LU\n",
      "2299  16907356662  2500     LU\n",
      "\n",
      "[2300 rows x 3 columns]\n"
     ]
    },
    {
     "data": {
      "image/png": "[encoded data removed]",
      "text/plain": [
       "<Figure size 432x288 with 1 Axes>"
      ]
     },
     "metadata": {},
     "output_type": "display_data"
    }
   ],
   "source": [
    "distribucion = 'normal'\n",
    "instancia = f'{distribucion}/nm'\n",
    "path_tiempos = f\"../../output/{instancia}/\"\n",
    "datapoints = []\n",
    "eg = pd.DataFrame([])  \n",
    "for n in range(5, 51):\n",
    "    n_eg = pd.read_csv(path_tiempos+f'{distribucion}_{n}_EG.time')\n",
    "    n_eg['n'] = [n*n]*len(n_eg)\n",
    "    eg = pd.concat([eg, n_eg], axis=0).drop_duplicates().reset_index(drop=True)\n",
    "eg['método'] = ['EG']*len(eg)\n",
    "\n",
    "lu = pd.DataFrame([])  \n",
    "for n in range(5, 51):\n",
    "    n_lu = pd.read_csv(path_tiempos+f'{distribucion}_{n}_LU.time')\n",
    "    n_lu['n'] = [n*n]*len(n_lu)\n",
    "    lu = pd.concat([lu, n_lu], axis=0).drop_duplicates().reset_index(drop=True)\n",
    "lu['método'] = ['LU']*len(lu)\n",
    "\n",
    "print(lu)\n",
    "\n",
    "times = pd.concat([eg, lu], axis=0).drop_duplicates().reset_index(drop=True)\n",
    "\n",
    "sns.set_theme()\n",
    "ax = sns.lineplot(\n",
    "    data=times,\n",
    "    x='n', y='time', hue='método', style='método',\n",
    "    markers=True, dashes=False\n",
    ")\n",
    "ax.set(xlabel='n²', ylabel='tiempo(ns)')\n",
    "#plt.yscale('log')\n",
    "plt.savefig('EG_vs_LU_nm_nl.pdf')"
   ]
  },
  {
   "cell_type": "code",
   "execution_count": null,
   "metadata": {},
   "outputs": [],
   "source": [
    "\n",
    "temp_graph('normal/instancias', 'normal_3')\n",
    "temp_graph_bilin('normal/instancias', 'normal_3')"
   ]
  }
 ],
 "metadata": {
  "interpreter": {
   "hash": "e7370f93d1d0cde622a1f8e1c04877d8463912d04d973331ad4851f04de6915a"
  },
  "kernelspec": {
   "display_name": "Python 3.10.2 64-bit",
   "language": "python",
   "name": "python3"
  },
  "language_info": {
   "codemirror_mode": {
    "name": "ipython",
    "version": 3
   },
   "file_extension": ".py",
   "mimetype": "text/x-python",
   "name": "python",
   "nbconvert_exporter": "python",
   "pygments_lexer": "ipython3",
   "version": "3.10.4"
  },
  "orig_nbformat": 4
 },
 "nbformat": 4,
 "nbformat_minor": 2
}
