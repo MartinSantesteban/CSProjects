{
 "cells": [
  {
   "cell_type": "markdown",
   "metadata": {},
   "source": [
    "Importamos las funciones requeridas."
   ]
  },
  {
   "cell_type": "code",
   "execution_count": 2,
   "metadata": {},
   "outputs": [],
   "source": [
    "import sys\n",
    "import os\n",
    "from math import sin, cos, pi\n",
    "import numpy as np\n",
    "import pandas as pd\n",
    "import matplotlib.pyplot as plt\n",
    "import seaborn as sns\n",
    "\n",
    "from generator import generate\n",
    "from runner import correr_instancia\n",
    "from isotherm import isotherm_abs, isotherm_linear\n",
    "from risk import run_risks\n",
    "from graph  import read_input, temp_graph, temp_graph_bilin, iso_graph, risk_graph"
   ]
  },
  {
   "cell_type": "markdown",
   "metadata": {},
   "source": [
    "Experimento 4.3.3 picos con $p$ creciente."
   ]
  },
  {
   "cell_type": "markdown",
   "metadata": {},
   "source": [
    "Generamos las instancias"
   ]
  },
  {
   "cell_type": "code",
   "execution_count": null,
   "metadata": {},
   "outputs": [],
   "source": [
    "instancia = f'picos/p'\n",
    "for p in [n for n in list(range(1, 11))]:\n",
    "    generate(instancia, f\"picos_{p}\", 2, 10, 20, 180, 500, 1, [lambda t : 1500], [lambda t, p=p : ((((sin(t)+1)/2)**p)*500)])\n"
   ]
  },
  {
   "cell_type": "markdown",
   "metadata": {},
   "source": [
    "Resolvemos las instancias"
   ]
  },
  {
   "cell_type": "code",
   "execution_count": null,
   "metadata": {},
   "outputs": [],
   "source": [
    "distribucion = 'picos'\n",
    "instancia = f'{distribucion}/p'\n",
    "for n in list(range(1, 2)):\n",
    "    correr_instancia('temperatura', instancia, f'picos_{n}', 'LU')\n",
    "    isotherm_lin('picos/p', f'picos_{n}')"
   ]
  },
  {
   "cell_type": "code",
   "execution_count": null,
   "metadata": {},
   "outputs": [],
   "source": [
    "for n in range(1, 11):\n",
    "    iso_graph('picos/p', f'picos_{n}')"
   ]
  },
  {
   "cell_type": "markdown",
   "metadata": {},
   "source": [
    "Graficamos"
   ]
  },
  {
   "cell_type": "code",
   "execution_count": null,
   "metadata": {},
   "outputs": [],
   "source": [
    "fig, ax = plt.subplots(subplot_kw={'projection': 'polar'})\n",
    "sns.set_theme()\n",
    "instance = 'picos/p'\n",
    "r_i, R_e, m, n, iso, ninst = read_input(instance, 'picos_1')\n",
    "theta = np.linspace(0, 2*np.pi, n+1)\n",
    "plt.ylim(r_i, R_e+0.1)\n",
    "ax.set_rticks([x-1 for x in range(int(r_i)-1, int(R_e)+1)])\n",
    "ax.plot(theta, [r_i]*(n+1), 'grey', label = '$r_i$')\n",
    "ax.grid(True)\n",
    "\n",
    "\n",
    "clr = ['', 'c-', '--', '', '', 'm-.', '', '', '', '', 'r-']\n",
    "for p in [1, 2, 5, 10]:\n",
    "    subinstance = f'picos_{p}'\n",
    "    r_i, R_e, m, n, iso, ninst = read_input(instance, subinstance)\n",
    "    values = [float(line.strip()) for line in open(f'../../output/{instance}/{subinstance}.iso')]\n",
    "    r = np.array([ values + [values[0]] ]).reshape(-1, 1)\n",
    "    ax.plot(theta, r, clr[p], label = f\"p = {p}\")\n",
    "plt.legend(loc=(-.4, 0.775))\n",
    "plt.savefig('picos_iso.pdf', bbox_inches='tight')"
   ]
  },
  {
   "cell_type": "code",
   "execution_count": 3,
   "metadata": {},
   "outputs": [
    {
     "name": "stdout",
     "output_type": "stream",
     "text": [
      "       valor   p método\n",
      "0   0.695210   1    avg\n",
      "1   1.000000   1    abs\n",
      "2   0.638514   2    avg\n",
      "3   1.000000   2    abs\n",
      "4   0.610578   3    avg\n",
      "5   1.000000   3    abs\n",
      "6   0.593001   4    avg\n",
      "7   1.000000   4    abs\n",
      "8   0.580509   5    avg\n",
      "9   1.000000   5    abs\n",
      "10  0.570942   6    avg\n",
      "11  1.000000   6    abs\n",
      "12  0.563256   7    avg\n",
      "13  1.000000   7    abs\n",
      "14  0.556800   8    avg\n",
      "15  1.000000   8    abs\n",
      "16  0.551194   9    avg\n",
      "17  1.000000   9    abs\n",
      "18  0.546187  10    avg\n",
      "19  1.000000  10    abs\n"
     ]
    },
    {
     "data": {
      "image/png": "[encoded data removed]",
      "text/plain": [
       "<Figure size 432x288 with 1 Axes>"
      ]
     },
     "metadata": {},
     "output_type": "display_data"
    }
   ],
   "source": [
    "distribucion = 'picos'\n",
    "instancia = f'{distribucion}/p'\n",
    "path_tiempos = f\"../../output/{instancia}/\"\n",
    "datapoints = []\n",
    "riesgos = pd.DataFrame([])  \n",
    "for p in range(1, 11):\n",
    "    run_risks(instancia, f'picos_{p}')\n",
    "    n_riesgos = pd.read_csv('../../output/'+instancia+f'/{distribucion}_{p}.risk')\n",
    "    n_riesgos['p'] = p\n",
    "    n_riesgos['método'] = ['avg', 'abs']\n",
    "    riesgos = pd.concat([riesgos, n_riesgos], axis=0).drop_duplicates().reset_index(drop=True)\n",
    "\n",
    "sns.set_theme()\n",
    "\n",
    "print(riesgos)\n",
    "\n",
    "ax = sns.lineplot(\n",
    "    data=riesgos,\n",
    "    x='p', y='valor', hue='método', style='método',\n",
    "    markers=True, dashes=False\n",
    ")\n",
    "\n",
    "ax.set(xlabel='p', ylabel='riesgo')\n",
    "plt.ylim(0.45)\n",
    "#plt.yscale('log')\n",
    "plt.savefig('picos_riesgo.pdf')"
   ]
  }
 ],
 "metadata": {
  "interpreter": {
   "hash": "e7370f93d1d0cde622a1f8e1c04877d8463912d04d973331ad4851f04de6915a"
  },
  "kernelspec": {
   "display_name": "Python 3.10.2 64-bit",
   "language": "python",
   "name": "python3"
  },
  "language_info": {
   "codemirror_mode": {
    "name": "ipython",
    "version": 3
   },
   "file_extension": ".py",
   "mimetype": "text/x-python",
   "name": "python",
   "nbconvert_exporter": "python",
   "pygments_lexer": "ipython3",
   "version": "3.10.4"
  },
  "orig_nbformat": 4
 },
 "nbformat": 4,
 "nbformat_minor": 2
}
