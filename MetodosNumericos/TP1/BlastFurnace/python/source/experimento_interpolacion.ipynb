{
 "cells": [
  {
   "cell_type": "markdown",
   "metadata": {},
   "source": [
    "Importamos las funciones requeridas."
   ]
  },
  {
   "cell_type": "code",
   "execution_count": 1,
   "metadata": {},
   "outputs": [],
   "source": [
    "import sys\n",
    "import os\n",
    "from math import sin, cos, pi\n",
    "import numpy as np\n",
    "import pandas as pd\n",
    "import matplotlib.pyplot as plt\n",
    "import seaborn as sns\n",
    "\n",
    "from generator import generate\n",
    "from runner import correr_instancia\n",
    "from isotherm import isotherm_abs, isotherm_linear, isotherm_linear2, isotherm_bilinear\n",
    "from risk import run_risks\n",
    "from graph  import read_input, temp_graph, temp_graph_bilin, temp_graph_bilin2, iso_graph, risk_graph, bilinear, interpolated_iso_graph"
   ]
  },
  {
   "cell_type": "markdown",
   "metadata": {},
   "source": [
    "Experimento 4.3.4 interpolación."
   ]
  },
  {
   "cell_type": "markdown",
   "metadata": {},
   "source": [
    "Generamos las instancias"
   ]
  },
  {
   "cell_type": "code",
   "execution_count": 4,
   "metadata": {},
   "outputs": [
    {
     "name": "stdout",
     "output_type": "stream",
     "text": [
      "generando 1 instancias de ondas/interpolacion, con 5 radios y 10 angulos\n",
      "generando 1 instancias de ondas/interpolacion, con 10 radios y 20 angulos\n",
      "generando 1 instancias de ondas/interpolacion, con 15 radios y 30 angulos\n",
      "generando 1 instancias de ondas/interpolacion, con 25 radios y 160 angulos\n"
     ]
    }
   ],
   "source": [
    "instancia = f'ondas/interpolacion'\n",
    "L = lambda t: sin(17*t+np.pi/2) * 150 + sin(5*t+np.pi/3) * 100 + sin(5*t) * 75 + sin(3*t) * 100 + sin(2*t) * 75\n",
    "generate(instancia, f\"ondas_interpolacion_raw\" , 1, 2, 5 , 10, 400, 1, [lambda t : 1500], [L])\n",
    "generate(instancia, f\"ondas_interpolacion_low\" , 1, 2, 10, 20, 400, 1, [lambda t : 1500], [L])\n",
    "generate(instancia, f\"ondas_interpolacion_mid\" , 1, 2, 15, 30, 400, 1, [lambda t : 1500], [L])\n",
    "generate(instancia, f\"ondas_interpolacion_high\", 1, 2, 25, 160, 400, 1, [lambda t : 1500], [L])"
   ]
  },
  {
   "cell_type": "markdown",
   "metadata": {},
   "source": [
    "Resolvemos las instancias"
   ]
  },
  {
   "cell_type": "code",
   "execution_count": 6,
   "metadata": {},
   "outputs": [
    {
     "name": "stdout",
     "output_type": "stream",
     "text": [
      "fin ondas/interpolacion, ondas_interpolacion_raw\n",
      "fin ondas/interpolacion, ondas_interpolacion_low\n",
      "fin ondas/interpolacion, ondas_interpolacion_mid\n"
     ]
    }
   ],
   "source": [
    "instancia = f'ondas/interpolacion'\n",
    "for subinstancia in ['ondas_interpolacion_raw', 'ondas_interpolacion_low', 'ondas_interpolacion_mid', 'ondas_interpolacion_high']:\n",
    "    correr_instancia('temperatura', instancia, subinstancia, 'LU')\n",
    "    isotherm_linear(instancia, subinstancia)"
   ]
  },
  {
   "cell_type": "markdown",
   "metadata": {},
   "source": [
    "Graficamos"
   ]
  },
  {
   "cell_type": "code",
   "execution_count": null,
   "metadata": {},
   "outputs": [],
   "source": [
    "instancia = f'ondas/interpolacion'\n",
    "subinstancia = 'ondas_interpolacion_raw'\n",
    "correr_instancia('temperatura', instancia, subinstancia, 'LU')\n",
    "r_i, R_e, m, n, iso, ninst = read_input(instancia, subinstancia)\n",
    "\n",
    "mult_n = 16\n",
    "mult_m = 1\n",
    "\n",
    "isotherm_abs(instancia, subinstancia)\n",
    "iso_graph(instancia, subinstancia)\n",
    "\n",
    "isotherm_linear(instancia, subinstancia)\n",
    "iso_graph(instancia, subinstancia)\n",
    "\n",
    "temp_graph(instancia, subinstancia)\n",
    "temp_graph_bilin(instancia, subinstancia, mult_m, mult_n)\n",
    "\n",
    "bilinear(instancia, subinstancia, mult_m, mult_n)\n",
    "isotherm_bilinear(instancia, subinstancia, mult_m, mult_n)\n",
    "interpolated_iso_graph(instancia, subinstancia, mult_m, mult_n)\n",
    "\n",
    "isotherm_abs(instancia, 'ondas_interpolacion_high')\n",
    "iso_graph(instancia, 'ondas_interpolacion_high')\n",
    "\n",
    "isotherm_linear(instancia, 'ondas_interpolacion_high')\n",
    "iso_graph(instancia, 'ondas_interpolacion_high')\n",
    "\n",
    "bilinear(instancia, 'ondas_interpolacion_high', mult_m, mult_n)\n",
    "isotherm_bilinear(instancia, 'ondas_interpolacion_high', mult_m, mult_n)\n",
    "temp_graph(instancia, 'ondas_interpolacion_high')\n",
    "temp_graph_bilin(instancia, 'ondas_interpolacion_high')\n",
    "interpolated_iso_graph(instancia, 'ondas_interpolacion_high', mult_m, mult_n)"
   ]
  },
  {
   "cell_type": "code",
   "execution_count": null,
   "metadata": {},
   "outputs": [],
   "source": [
    "def dir(ax, instance, subinstance, color, name):\n",
    "    r_i, R_e, m, n, iso, ninst = read_input(instance, subinstance)\n",
    "    theta = np.linspace(0, 2*np.pi, n+1)\n",
    "    values = [float(line.strip()) for line in open(f'../../output/{instance}/{subinstance}.iso')]\n",
    "    value_sets = [values[i*n:(i+1)*n] for i in range(ninst)]\n",
    "    for i in range(len(value_sets)):\n",
    "        print(f'graficando la isoterma de {instance}, entrada numero {i+1} con {m} radios y {n} angulos')\n",
    "        r = np.array([value_sets[i][j:j+n] + [value_sets[i][j]] for j in range(0, len(value_sets[i]), n)]).reshape(-1, 1)\n",
    "        plt.ylim(r_i, R_e)\n",
    "        ax.plot(theta, r, color, label=name)\n",
    "        ax.grid(True)\n",
    "        \n",
    "\n",
    "def interp(ax, instance, subinstance, color, name, mult_m = 2, mult_n = 2):\n",
    "    r_i, R_e, m, n, iso, ninst = read_input(instance, subinstance)\n",
    "    m *= mult_m\n",
    "    n *= mult_n\n",
    "    print(n)\n",
    "    theta = np.linspace(0, 2*np.pi, n+1)\n",
    "    values = [float(line.strip()) for line in open(f'../../output/{instance}/{subinstance}_interpolado.iso')]\n",
    "    value_sets = [values[i*n:(i+1)*n] for i in range(ninst)]\n",
    "    for i in range(len(value_sets)):\n",
    "        print(f'graficando la isoterma de {instance}, entrada numero {i+1} con {m} radios y {n} angulos')\n",
    "        r = np.array([value_sets[i][j:j+n] + [value_sets[i][j]] for j in range(0, len(value_sets[i]), n)]).reshape(-1, 1)\n",
    "        plt.ylim(r_i, R_e)\n",
    "        ax.plot(theta, [r_i]*(n+1), 'grey')\n",
    "        ax.plot(theta, r, color, label=name)\n",
    "        ax.grid(True)\n",
    "\n",
    "sns.set_theme()\n",
    "instancia = f'ondas/interpolacion'\n",
    "subinstancia = 'ondas_interpolacion_raw'\n",
    "\n",
    "fig, axe = plt.subplots(subplot_kw={'projection': 'polar'})\n",
    "\n",
    "mult_n = 8\n",
    "mult_m = 4\n",
    "\n",
    "bilinear(instancia, subinstancia, mult_m, mult_n)\n",
    "isotherm_bilinear(instancia, subinstancia, mult_m, mult_n)\n",
    "interp(axe, instancia, subinstancia, 'r--', 'bilinear', mult_m, mult_n)\n",
    "\n",
    "subinstancia = 'ondas_interpolacion_raw'\n",
    "\n",
    "isotherm_abs(instancia, subinstancia)\n",
    "dir(axe, instancia, subinstancia, '--', 'absoluto')\n",
    "\n",
    "isotherm_linear(instancia, subinstancia)\n",
    "dir(axe, instancia, subinstancia, 'm--', 'lineal')\n",
    "\n",
    "\n",
    "subinstancia = 'ondas_interpolacion_high'\n",
    "\n",
    "isotherm_linear(instancia, subinstancia)\n",
    "dir(axe, instancia, subinstancia, 'c', 'real')\n",
    "\n",
    "axe.set_rticks([])\n",
    "\n",
    "\n",
    "plt.legend(loc=(-.4, 0.8))\n",
    "plt.savefig('interpolacion.pdf', bbox_inches='tight')"
   ]
  },
  {
   "cell_type": "code",
   "execution_count": null,
   "metadata": {},
   "outputs": [],
   "source": [
    "instancia = f'ondas/interpolacion'\n",
    "L = lambda t: (sin(17*t+np.pi/2)+1) * 75 + (sin(5*t+np.pi/3)+1) * 50 + (sin(5*t)+1) * 35 + (sin(3*t)+1) * 50 + (sin(2*t)+1) * 30\n",
    "generate(instancia, f\"ondas_interpolacion_ejemplo\" , 2, 10, 10, 80, 400, 1, [lambda t : 1500], [L])\n",
    "\n",
    "instancia = f'ondas/interpolacion'\n",
    "subinstancia = 'ondas_interpolacion_ejemplo'\n",
    "#correr_instancia('temperatura', instancia, subinstancia, 'LU')\n",
    "r_i, R_e, m, n, iso, ninst = read_input(instancia, subinstancia)\n",
    "\n",
    "mult_n = 16\n",
    "mult_m = 4\n",
    "\n",
    "temp_graph(instancia, subinstancia, 'bilinear_low.pdf')\n",
    "temp_graph_bilin(instancia, subinstancia, mult_m, mult_n, 'bilinear_high.pdf')"
   ]
  },
  {
   "cell_type": "code",
   "execution_count": 8,
   "metadata": {},
   "outputs": [
    {
     "name": "stdout",
     "output_type": "stream",
     "text": [
      "generando 1 instancias de ondas/distancia, con 5 radios y 10 angulos\n",
      "fin ondas/distancia, ondas_distancia_5\n",
      "generando 1 instancias de ondas/distancia, con 6 radios y 12 angulos\n",
      "fin ondas/distancia, ondas_distancia_6\n",
      "generando 1 instancias de ondas/distancia, con 7 radios y 14 angulos\n",
      "fin ondas/distancia, ondas_distancia_7\n",
      "generando 1 instancias de ondas/distancia, con 8 radios y 16 angulos\n",
      "fin ondas/distancia, ondas_distancia_8\n",
      "generando 1 instancias de ondas/distancia, con 9 radios y 18 angulos\n",
      "fin ondas/distancia, ondas_distancia_9\n",
      "generando 1 instancias de ondas/distancia, con 10 radios y 20 angulos\n",
      "fin ondas/distancia, ondas_distancia_10\n",
      "generando 1 instancias de ondas/distancia, con 11 radios y 22 angulos\n",
      "fin ondas/distancia, ondas_distancia_11\n",
      "generando 1 instancias de ondas/distancia, con 12 radios y 24 angulos\n",
      "fin ondas/distancia, ondas_distancia_12\n",
      "generando 1 instancias de ondas/distancia, con 13 radios y 26 angulos\n",
      "fin ondas/distancia, ondas_distancia_13\n",
      "generando 1 instancias de ondas/distancia, con 14 radios y 28 angulos\n",
      "fin ondas/distancia, ondas_distancia_14\n",
      "generando 1 instancias de ondas/distancia, con 15 radios y 30 angulos\n",
      "fin ondas/distancia, ondas_distancia_15\n",
      "generando 1 instancias de ondas/distancia, con 20 radios y 40 angulos\n",
      "fin ondas/distancia, ondas_distancia_20\n",
      "generando 1 instancias de ondas/distancia, con 25 radios y 50 angulos\n",
      "fin ondas/distancia, ondas_distancia_25\n",
      "generando 1 instancias de ondas/distancia, con 30 radios y 60 angulos\n",
      "fin ondas/distancia, ondas_distancia_30\n",
      "generando 1 instancias de ondas/distancia, con 35 radios y 70 angulos\n",
      "fin ondas/distancia, ondas_distancia_35\n",
      "generando 1 instancias de ondas/distancia, con 40 radios y 80 angulos\n",
      "fin ondas/distancia, ondas_distancia_40\n",
      "generando 1 instancias de ondas/distancia, con 45 radios y 90 angulos\n",
      "fin ondas/distancia, ondas_distancia_45\n",
      "generando 1 instancias de ondas/distancia, con 50 radios y 100 angulos\n",
      "fin ondas/distancia, ondas_distancia_50\n"
     ]
    }
   ],
   "source": [
    "instancia = f'ondas/distancia'\n",
    "L = lambda t: (sin(17*t+np.pi/2)+1) * 75 + (sin(5*t+np.pi/3)+1) * 50 + (sin(5*t)+1) * 35 + (sin(3*t)+1) * 50 + (sin(2*t)+1) * 30\n",
    "for n in [5, 6, 7, 8, 9, 10, 11, 12, 13, 14, 15, 20, 25, 30, 35, 40, 45, 50]:\n",
    "    subinstancia = f\"ondas_distancia_{n}\"\n",
    "    generate(instancia, subinstancia, 1, 2, n, n*2, 500, 1, [lambda t : 1500], [L])\n",
    "    correr_instancia('temperatura', instancia, subinstancia, 'LU')"
   ]
  },
  {
   "cell_type": "code",
   "execution_count": 14,
   "metadata": {},
   "outputs": [
    {
     "name": "stdout",
     "output_type": "stream",
     "text": [
      "18\n"
     ]
    },
    {
     "data": {
      "image/png": "[encoded data removed]",
      "text/plain": [
       "<Figure size 432x288 with 1 Axes>"
      ]
     },
     "metadata": {},
     "output_type": "display_data"
    }
   ],
   "source": [
    "instancia = f'ondas/distancia'\n",
    "#L = lambda t: (sin(17*t+np.pi/2)+1) * 75 + (sin(5*t+np.pi/3)+1) * 50 + (sin(5*t)+1) * 35 + (sin(3*t)+1) * 50 + (sin(2*t)+1) * 30\n",
    "#generate(instancia, \"ondas_distancia_real\", 1, 2, 50, 180, 500, 1, [lambda t : 1500], [L])\n",
    "#correr_instancia('temperatura', instancia, \"ondas_distancia_real\", 'LU')\n",
    "isotherm_linear(instancia, 'ondas_distancia_real')\n",
    "real_line = [float(line.strip()) for line in open(f'../../output/{instancia}/ondas_distancia_real.iso')]\n",
    "\n",
    "def isotherm_real(theta):\n",
    "    angle = np.rad2deg(theta) / 2\n",
    "    if angle % 1 == 0:\n",
    "        return real_line[int(angle)]\n",
    "    else:\n",
    "        return (1 - angle % 1) * real_line[int(np.floor(angle))] + (angle % 1) * real_line[int(np.ceil(angle))]\n",
    "\n",
    "N = 51 + 1\n",
    "abs  = []\n",
    "lin  = []\n",
    "blin = []\n",
    "#calculo de isotermas\n",
    "for n in [5, 6, 7, 8, 9, 10, 11, 12, 13, 14, 15, 20, 25, 30, 35, 40, 45, 50]:\n",
    "    subinstancia = f\"ondas_distancia_{n}\"\n",
    "    isotherm_abs(instancia, subinstancia)\n",
    "    abs += [[float(line.strip()) for line in open(f'../../output/{instancia}/{subinstancia}.iso')]]\n",
    "    isotherm_linear(instancia, subinstancia)\n",
    "    lin += [[float(line.strip()) for line in open(f'../../output/{instancia}/{subinstancia}.iso')]]\n",
    "    mult_n = 2\n",
    "    mult_m = 2\n",
    "    bilinear(instancia, subinstancia, mult_m, mult_n)\n",
    "    isotherm_bilinear(instancia, subinstancia)\n",
    "    blin += [[float(line.strip()) for line in open(f'../../output/{instancia}/{subinstancia}_interpolado.iso')]]\n",
    "\n",
    "new_abs  = []\n",
    "new_lin  = []\n",
    "new_blin = []\n",
    "for i in range(len(abs)):\n",
    "    subinstancia = f\"ondas_distancia_{n}\"\n",
    "    I_abs  = []\n",
    "    I_lin  = []\n",
    "    I_blin = []\n",
    "    for k in range(180):\n",
    "        t = k/180 * (len(abs[i])-1)\n",
    "        if np.abs(t % 1) <= 1e-6:\n",
    "            I_abs += [abs[i][int(t)]]\n",
    "            I_lin += [lin[i][int(t)]]\n",
    "            I_blin += [blin[i][int(t*2)]]\n",
    "        else:\n",
    "            prev = int(np.floor(t))\n",
    "            next = int(np.ceil(t))\n",
    "            t = t % 1\n",
    "            I_abs += [(1-t) * abs[i][prev] + t * abs[i][next]]\n",
    "            I_lin += [(1-t) * lin[i][prev] + t * lin[i][next]]\n",
    "            I_blin += [(1-t) * blin[i][prev*2] + t * blin[i][next*2]]\n",
    "    new_abs += [I_abs]\n",
    "    new_lin += [I_lin]\n",
    "    new_blin += [I_blin]\n",
    "\n",
    "abs_norm  = []\n",
    "lin_norm  = []\n",
    "blin_norm = []\n",
    "#suma de normas\n",
    "print(len(new_abs))\n",
    "for i in range(len(new_abs)):\n",
    "    abs_norm += [0]\n",
    "    lin_norm += [0]\n",
    "    blin_norm += [0]\n",
    "    for k in range(180):\n",
    "        abs_norm[-1] += (new_abs[i][k] - real_line[k])**2\n",
    "        lin_norm[-1] += (new_lin[i][k] - real_line[k])**2\n",
    "        blin_norm[-1] += (new_blin[i][k] - real_line[k])**2\n",
    "    abs_norm[-1] = np.sqrt(abs_norm[-1])\n",
    "    lin_norm[-1] = np.sqrt(lin_norm[-1])\n",
    "    blin_norm[-1] = np.sqrt(blin_norm[-1])\n",
    "\n",
    "abs = pd.DataFrame({'values': abs_norm})\n",
    "abs['tipo'] = 'NN'\n",
    "abs['n'] = list(map(lambda t: t*2, [5, 6, 7, 8, 9, 10, 11, 12, 13, 14, 15, 20, 25, 30, 35, 40, 45, 50]))\n",
    "lin = pd.DataFrame({'values':lin_norm})\n",
    "lin['tipo'] = 'lineal'\n",
    "lin['n'] = list(map(lambda t: t*2, [5, 6, 7, 8, 9, 10, 11, 12, 13, 14, 15, 20, 25, 30, 35, 40, 45, 50]))\n",
    "blin = pd.DataFrame({'values':blin_norm})\n",
    "blin['tipo'] = 'bilineal'\n",
    "blin['n'] = list(map(lambda t: t*2, [5, 6, 7, 8, 9, 10, 11, 12, 13, 14, 15, 20, 25, 30, 35, 40, 45, 50]))\n",
    "\n",
    "df = pd.concat([abs, lin, blin]).drop_duplicates().reset_index(drop=True)\n",
    "\n",
    "sns.set_theme()\n",
    "ax = sns.lineplot(data=df, x=\"n\", y=\"values\", hue=\"tipo\", style=\"tipo\", markers=True, dashes=False)\n",
    "#sns.kdeplot(data=df, x=\"n\", hue=\"type\", multiple=\"stack\")\n",
    "ax.set(xlabel='n', ylabel='$|\\!|\\cdot|\\!|_2$')\n",
    "plt.savefig('abs_lin_blin.pdf', bbox_inches='tight')\n",
    "#df = pd.DataFrame(abs)"
   ]
  },
  {
   "cell_type": "code",
   "execution_count": 16,
   "metadata": {},
   "outputs": [
    {
     "ename": "FileNotFoundError",
     "evalue": "[Errno 2] No such file or directory: '../../output/ondas/distancia/ondas_interpolacion_high.temp'",
     "output_type": "error",
     "traceback": [
      "\u001b[0;31m---------------------------------------------------------------------------\u001b[0m",
      "\u001b[0;31mFileNotFoundError\u001b[0m                         Traceback (most recent call last)",
      "\u001b[1;32m/home/firewill/Desktop/BlastFurnace/python/source/experimento_interpolacion.ipynb Cell 14'\u001b[0m in \u001b[0;36m<cell line: 39>\u001b[0;34m()\u001b[0m\n\u001b[1;32m     <a href='vscode-notebook-cell:/home/firewill/Desktop/BlastFurnace/python/source/experimento_interpolacion.ipynb#ch0000013?line=34'>35</a>\u001b[0m fig, axe \u001b[39m=\u001b[39m plt\u001b[39m.\u001b[39msubplots(subplot_kw\u001b[39m=\u001b[39m{\u001b[39m'\u001b[39m\u001b[39mprojection\u001b[39m\u001b[39m'\u001b[39m: \u001b[39m'\u001b[39m\u001b[39mpolar\u001b[39m\u001b[39m'\u001b[39m})\n\u001b[1;32m     <a href='vscode-notebook-cell:/home/firewill/Desktop/BlastFurnace/python/source/experimento_interpolacion.ipynb#ch0000013?line=36'>37</a>\u001b[0m subinstancia \u001b[39m=\u001b[39m \u001b[39m'\u001b[39m\u001b[39mondas_interpolacion_high\u001b[39m\u001b[39m'\u001b[39m\n\u001b[0;32m---> <a href='vscode-notebook-cell:/home/firewill/Desktop/BlastFurnace/python/source/experimento_interpolacion.ipynb#ch0000013?line=38'>39</a>\u001b[0m isotherm_linear(instancia, subinstancia)\n\u001b[1;32m     <a href='vscode-notebook-cell:/home/firewill/Desktop/BlastFurnace/python/source/experimento_interpolacion.ipynb#ch0000013?line=39'>40</a>\u001b[0m \u001b[39mdir\u001b[39m(axe, instancia, subinstancia, (\u001b[39m0\u001b[39m, \u001b[39m0\u001b[39m, \u001b[39m0\u001b[39m), \u001b[39m'\u001b[39m\u001b[39mreal\u001b[39m\u001b[39m'\u001b[39m, \u001b[39m'\u001b[39m\u001b[39mdashed\u001b[39m\u001b[39m'\u001b[39m)\n\u001b[1;32m     <a href='vscode-notebook-cell:/home/firewill/Desktop/BlastFurnace/python/source/experimento_interpolacion.ipynb#ch0000013?line=41'>42</a>\u001b[0m instancia \u001b[39m=\u001b[39m \u001b[39mf\u001b[39m\u001b[39m'\u001b[39m\u001b[39mondas/interpolacion\u001b[39m\u001b[39m'\u001b[39m\n",
      "File \u001b[0;32m~/Desktop/BlastFurnace/python/source/isotherm.py:38\u001b[0m, in \u001b[0;36misotherm_linear\u001b[0;34m(instance, subinstance)\u001b[0m\n\u001b[1;32m     <a href='file:///home/firewill/Desktop/BlastFurnace/python/source/isotherm.py?line=36'>37</a>\u001b[0m \u001b[39mdef\u001b[39;00m \u001b[39misotherm_linear\u001b[39m (instance, subinstance):\n\u001b[0;32m---> <a href='file:///home/firewill/Desktop/BlastFurnace/python/source/isotherm.py?line=37'>38</a>\u001b[0m     (r_i, R_e, m, n, iso, ninst, value_sets) \u001b[39m=\u001b[39m read_data(instance, subinstance)\n\u001b[1;32m     <a href='file:///home/firewill/Desktop/BlastFurnace/python/source/isotherm.py?line=38'>39</a>\u001b[0m     delta_r \u001b[39m=\u001b[39m (R_e \u001b[39m-\u001b[39m r_i) \u001b[39m/\u001b[39m (m\u001b[39m-\u001b[39m\u001b[39m1\u001b[39m)\n\u001b[1;32m     <a href='file:///home/firewill/Desktop/BlastFurnace/python/source/isotherm.py?line=39'>40</a>\u001b[0m     isos \u001b[39m=\u001b[39m []\n",
      "File \u001b[0;32m~/Desktop/BlastFurnace/python/source/isotherm.py:7\u001b[0m, in \u001b[0;36mread_data\u001b[0;34m(instance, subinstance)\u001b[0m\n\u001b[1;32m      <a href='file:///home/firewill/Desktop/BlastFurnace/python/source/isotherm.py?line=5'>6</a>\u001b[0m \u001b[39mdef\u001b[39;00m \u001b[39mread_data\u001b[39m(instance, subinstance):\n\u001b[0;32m----> <a href='file:///home/firewill/Desktop/BlastFurnace/python/source/isotherm.py?line=6'>7</a>\u001b[0m     f \u001b[39m=\u001b[39m \u001b[39mopen\u001b[39;49m(\u001b[39mf\u001b[39;49m\u001b[39m\"\u001b[39;49m\u001b[39m../../output/\u001b[39;49m\u001b[39m{\u001b[39;49;00minstance\u001b[39m}\u001b[39;49;00m\u001b[39m/\u001b[39;49m\u001b[39m{\u001b[39;49;00msubinstance\u001b[39m}\u001b[39;49;00m\u001b[39m.temp\u001b[39;49m\u001b[39m\"\u001b[39;49m,\u001b[39m\"\u001b[39;49m\u001b[39mr\u001b[39;49m\u001b[39m\"\u001b[39;49m)\n\u001b[1;32m      <a href='file:///home/firewill/Desktop/BlastFurnace/python/source/isotherm.py?line=7'>8</a>\u001b[0m     (r_i, R_e, m, n, iso, ninst) \u001b[39m=\u001b[39m [line\u001b[39m.\u001b[39mstrip() \u001b[39mfor\u001b[39;00m line \u001b[39min\u001b[39;00m \u001b[39mopen\u001b[39m(\u001b[39mf\u001b[39m\u001b[39m'\u001b[39m\u001b[39m../../input/\u001b[39m\u001b[39m{\u001b[39;00minstance\u001b[39m}\u001b[39;00m\u001b[39m/\u001b[39m\u001b[39m{\u001b[39;00msubinstance\u001b[39m}\u001b[39;00m\u001b[39m.in\u001b[39m\u001b[39m'\u001b[39m)][\u001b[39m0\u001b[39m]\u001b[39m.\u001b[39msplit(\u001b[39m'\u001b[39m\u001b[39m \u001b[39m\u001b[39m'\u001b[39m)\n\u001b[1;32m      <a href='file:///home/firewill/Desktop/BlastFurnace/python/source/isotherm.py?line=8'>9</a>\u001b[0m     (r_i, R_e, m, n, iso, ninst) \u001b[39m=\u001b[39m (\u001b[39mfloat\u001b[39m(r_i), \u001b[39mfloat\u001b[39m(R_e), \u001b[39mint\u001b[39m(m), \u001b[39mint\u001b[39m(n), \u001b[39mfloat\u001b[39m(iso), \u001b[39mint\u001b[39m(ninst))\n",
      "\u001b[0;31mFileNotFoundError\u001b[0m: [Errno 2] No such file or directory: '../../output/ondas/distancia/ondas_interpolacion_high.temp'"
     ]
    },
    {
     "data": {
      "image/png": "[encoded data removed]",
      "text/plain": [
       "<Figure size 432x288 with 1 Axes>"
      ]
     },
     "metadata": {},
     "output_type": "display_data"
    }
   ],
   "source": [
    "def dir(ax, instance, subinstance, color, name, linestyle='-'):\n",
    "    r_i, R_e, m, n, iso, ninst = read_input(instance, subinstance)\n",
    "    theta = np.linspace(0, 2*np.pi, n+1)\n",
    "    values = [float(line.strip()) for line in open(f'../../output/{instance}/{subinstance}.iso')]\n",
    "    value_sets = [values[i*n:(i+1)*n] for i in range(ninst)]\n",
    "    for i in range(len(value_sets)):\n",
    "        print(f'graficando la isoterma de {instance}, entrada numero {i+1} con {m} radios y {n} angulos')\n",
    "        r = np.array([value_sets[i][j:j+n] + [value_sets[i][j]] for j in range(0, len(value_sets[i]), n)]).reshape(-1, 1)\n",
    "        plt.ylim(r_i, R_e)\n",
    "        ax.plot(theta, r, color=color, label=name, linestyle=linestyle)\n",
    "        ax.grid(True)\n",
    "        \n",
    "\n",
    "def interp(ax, instance, subinstance, color, name, mult_m = 2, mult_n = 2):\n",
    "    r_i, R_e, m, n, iso, ninst = read_input(instance, subinstance)\n",
    "    m *= mult_m\n",
    "    n *= mult_n\n",
    "    print(m, n)\n",
    "    theta = np.linspace(0, 2*np.pi, n+1)\n",
    "    values = [float(line.strip()) for line in open(f'../../output/{instance}/{subinstance}_interpolado.iso')]\n",
    "    value_sets = [values[i*n:(i+1)*n] for i in range(ninst)]\n",
    "    print(len(value_sets))\n",
    "    print(len(value_sets[0]))\n",
    "    for i in range(len(value_sets)):\n",
    "        print(f'graficando la isoterma de {instance}, entrada numero {i+1} con {m} radios y {n} angulos')\n",
    "        r = np.array([value_sets[i][j:j+n] + [value_sets[i][j]] for j in range(0, len(value_sets[i]), n)]).reshape(-1, 1)\n",
    "        plt.ylim(r_i, R_e)\n",
    "        ax.plot(theta, [r_i]*(n+1), 'grey')\n",
    "        ax.plot(theta, r, color=color, label=name)\n",
    "        ax.grid(True)\n",
    "\n",
    "sns.set_theme()\n",
    "\n",
    "\n",
    "fig, axe = plt.subplots(subplot_kw={'projection': 'polar'})\n",
    "\n",
    "instancia = f'ondas/interpolacion'\n",
    "subinstancia = 'ondas_interpolacion_high'\n",
    "\n",
    "isotherm_linear(instancia, subinstancia)\n",
    "dir(axe, instancia, subinstancia, (0, 0, 0), 'real', 'dashed')\n",
    "\n",
    "\n",
    "subinstancia = 'ondas_interpolacion_raw'\n",
    "\n",
    "isotherm_abs(instancia, subinstancia)\n",
    "dir(axe, instancia, subinstancia, (76/255, 114/255, 176/255), 'NN')\n",
    "\n",
    "isotherm_linear(instancia, subinstancia)\n",
    "dir(axe, instancia, subinstancia, (221/255, 132/255, 82/255), 'lineal')\n",
    "\n",
    "mult_n = 2\n",
    "mult_m = 2\n",
    "\n",
    "bilinear(instancia, subinstancia, mult_m, mult_n)\n",
    "isotherm_bilinear(instancia, subinstancia, mult_m, mult_n)\n",
    "interp(axe, instancia, subinstancia, (85/255, 168/255, 104/255), 'bilineal', mult_m, mult_n)\n",
    "\n",
    "axe.set_rticks([])\n",
    "\n",
    "plt.legend(loc=(-.4, 0.8))\n",
    "plt.savefig('interpolacion.pdf', bbox_inches='tight')"
   ]
  }
 ],
 "metadata": {
  "interpreter": {
   "hash": "e7370f93d1d0cde622a1f8e1c04877d8463912d04d973331ad4851f04de6915a"
  },
  "kernelspec": {
   "display_name": "Python 3.10.2 64-bit",
   "language": "python",
   "name": "python3"
  },
  "language_info": {
   "codemirror_mode": {
    "name": "ipython",
    "version": 3
   },
   "file_extension": ".py",
   "mimetype": "text/x-python",
   "name": "python",
   "nbconvert_exporter": "python",
   "pygments_lexer": "ipython3",
   "version": "3.10.4"
  },
  "orig_nbformat": 4
 },
 "nbformat": 4,
 "nbformat_minor": 2
}
