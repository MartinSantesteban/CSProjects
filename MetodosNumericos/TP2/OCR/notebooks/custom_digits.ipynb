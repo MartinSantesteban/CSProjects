{
 "cells": [
  {
   "cell_type": "code",
   "execution_count": 2,
   "metadata": {},
   "outputs": [],
   "source": [
    "import os\n",
    "import glob\n",
    "import pandas as pd\n",
    "import numpy as np\n",
    "from PIL import Image\n",
    "from MNIST import vectorize, render_28x28, render_digits, tikz\n",
    "import metnum as mn\n",
    "from metrics import metrics"
   ]
  },
  {
   "cell_type": "markdown",
   "metadata": {},
   "source": [
    "Procesar dígitos propios"
   ]
  },
  {
   "cell_type": "code",
   "execution_count": 8,
   "metadata": {},
   "outputs": [
    {
     "name": "stderr",
     "output_type": "stream",
     "text": [
      "/tmp/ipykernel_151203/2183473473.py:20: DeprecationWarning: elementwise comparison failed; this will raise an error in the future.\n",
      "  V = v if V == [] else np.append(V, v, axis=0)\n",
      "/tmp/ipykernel_151203/2183473473.py:21: DeprecationWarning: The truth value of an empty array is ambiguous. Returning False, but in future this will result in an error. Use `array.size > 0` to check that an array is not empty.\n",
      "  L = np.array([D[image_class]]) if L == [] else np.append(L, [D[image_class]], axis=0)\n",
      "/tmp/ipykernel_151203/2183473473.py:21: DeprecationWarning: elementwise comparison failed; this will raise an error in the future.\n",
      "  L = np.array([D[image_class]]) if L == [] else np.append(L, [D[image_class]], axis=0)\n"
     ]
    }
   ],
   "source": [
    "V = []\n",
    "L = []\n",
    "\n",
    "path = './input'\n",
    "D = {\n",
    "    'bot': 0,\n",
    "    'lambda': 1,\n",
    "    'lighting': 2,\n",
    "    'null': 3,\n",
    "    'question': 4,\n",
    "    'slashes': 5,\n",
    "    'smile': 6,\n",
    "    'square': 7,\n",
    "    'top': 8,\n",
    "    'triangle': 9\n",
    "}\n",
    "\n",
    "for image_class in D:\n",
    "    for filename in glob.glob(os.path.join(path, image_class+'*.png')):\n",
    "        v = vectorize(Image.open(filename))\n",
    "        V = v if V == [] else np.append(V, v, axis=0)\n",
    "        L = np.array([D[image_class]]) if L == [] else np.append(L, [D[image_class]], axis=0)\n",
    "columns = ['pixel' + str(i) for i in range(0, 784)]\n",
    "df = pd.DataFrame(data=V, index=L, columns=columns)\n",
    "df.index.name = 'label'\n",
    "df.to_csv('output/symbols.csv', index=True)"
   ]
  },
  {
   "cell_type": "code",
   "execution_count": 4,
   "metadata": {},
   "outputs": [],
   "source": [
    "\n",
    "A = pd.read_csv('./output/symbols.csv')\n",
    "\n",
    "L = A.iloc[:99,0]\n",
    "X = A.iloc[:99,1:]\n",
    "\n",
    "X = X.to_numpy()\n",
    "\n",
    "pca = mn.PCA(6)\n",
    "pca.fit(X)\n",
    "\n",
    "knn = mn.KNNClassifier(3)\n",
    "knn.fit(L, X, pca)\n",
    "\n"
   ]
  },
  {
   "cell_type": "code",
   "execution_count": 7,
   "metadata": {},
   "outputs": [
    {
     "name": "stdout",
     "output_type": "stream",
     "text": [
      "[0. 0. 0. 0. 0. 0. 0. 0. 0. 0. 1. 0. 1. 1. 1. 1. 1. 1. 1. 1. 2. 2. 2. 2.\n",
      " 2. 2. 2. 2. 2. 2. 3. 3. 3. 3. 3. 3. 3. 3. 3. 3. 4. 4. 4. 4. 4. 4. 4. 4.\n",
      " 4. 4. 5. 5. 4. 5. 5. 5. 5. 5. 5. 5. 6. 6. 6. 6. 6. 6. 6. 6. 6. 6. 7. 7.\n",
      " 7. 7. 7. 7. 7. 7. 6. 7. 8. 8. 8. 8. 8. 8. 8. 8. 0. 0. 9. 9. 9. 9. 9. 9.\n",
      " 9. 5. 9. 9.]\n"
     ]
    }
   ],
   "source": [
    "labels = A.iloc[99,0]\n",
    "predictions = knn.predict(A.iloc[0:100,1:])\n",
    "\n",
    "print(predictions)"
   ]
  }
 ],
 "metadata": {
  "interpreter": {
   "hash": "4e1d9a8909477db77738c33245c29c7265277ef753467dede8cf3f814cde494e"
  },
  "kernelspec": {
   "display_name": "Python 3.10.4 64-bit",
   "language": "python",
   "name": "python3"
  },
  "language_info": {
   "codemirror_mode": {
    "name": "ipython",
    "version": 3
   },
   "file_extension": ".py",
   "mimetype": "text/x-python",
   "name": "python",
   "nbconvert_exporter": "python",
   "pygments_lexer": "ipython3",
   "version": "3.10.4"
  },
  "orig_nbformat": 4
 },
 "nbformat": 4,
 "nbformat_minor": 2
}
